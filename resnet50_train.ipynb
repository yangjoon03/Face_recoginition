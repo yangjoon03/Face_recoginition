{
 "cells": [
  {
   "cell_type": "code",
   "execution_count": 433,
   "id": "0023601a-ad4e-438c-8fd7-fc59a4dec5df",
   "metadata": {},
   "outputs": [],
   "source": [
    "import torch\n",
    "import torch.nn as nn\n",
    "import torch.optim as optim\n",
    "import torchvision.transforms as transforms\n",
    "import torchvision.datasets as datasets\n",
    "from torchvision import models\n",
    "from torch.utils.data import DataLoader, random_split\n",
    "from tqdm import tqdm"
   ]
  },
  {
   "cell_type": "code",
   "execution_count": 462,
   "id": "a48ab2c7-ddad-4f94-b5a8-450c983c882c",
   "metadata": {},
   "outputs": [],
   "source": [
    "# 하이퍼파라미터 설정\n",
    "batch_size = 32\n",
    "epochs = 150\n",
    "learning_rate = 0.0001\n",
    "num_classes = 7  # 얼굴 클래스 개수\n",
    "val_split = 0.2  # 검증 데이터 비율\n",
    "early_stop_patience = 3  # 조기 종료 기준 (연속으로 개선되지 않은 epoch 수)"
   ]
  },
  {
   "cell_type": "code",
   "execution_count": 463,
   "id": "0d0836d2-f7b2-4a10-a7bf-329b4e5e2927",
   "metadata": {},
   "outputs": [],
   "source": [
    "transform = transforms.Compose([\n",
    "    transforms.RandomRotation(degrees= 10),\n",
    "    transforms.Resize((224, 224)),\n",
    "    transforms.RandomHorizontalFlip(p = 0.5),\n",
    "    transforms.ColorJitter(brightness=0.5, contrast=0.5, saturation=0.5, hue=0.1),\n",
    "    transforms.GaussianBlur(kernel_size=(5,5)),\n",
    "    transforms.ToTensor(),\n",
    "    transforms.Normalize(mean=[0.485, 0.456, 0.406], std=[0.229, 0.224, 0.225])\n",
    "])"
   ]
  },
  {
   "cell_type": "code",
   "execution_count": 464,
   "id": "fbb52e5f-e41c-4be8-a05f-d1c104465c68",
   "metadata": {},
   "outputs": [],
   "source": [
    "# 데이터셋 로드 (훈련 데이터만 사용)\n",
    "dataset = datasets.ImageFolder(root='훈련데이터 경로/train_face_bts', transform=transform)\n",
    "train_size = int((1 - val_split) * len(dataset))\n",
    "val_size = len(dataset) - train_size\n",
    "train_dataset, val_dataset = random_split(dataset, [train_size, val_size])\n",
    "train_loader = DataLoader(train_dataset, batch_size=batch_size, shuffle=True)\n",
    "val_loader = DataLoader(val_dataset, batch_size=batch_size, shuffle=False)"
   ]
  },
  {
   "cell_type": "code",
   "execution_count": 465,
   "id": "6a671d46-98ca-47bb-875f-9b84e818c3af",
   "metadata": {},
   "outputs": [
    {
     "name": "stdout",
     "output_type": "stream",
     "text": [
      "클래스 목록 : ['jhope', 'jimin', 'jin', 'jungkook', 'rm', 'suga', 'v']\n"
     ]
    }
   ],
   "source": [
    "print(f\"클래스 목록 : {dataset.classes}\")"
   ]
  },
  {
   "cell_type": "code",
   "execution_count": 466,
   "id": "86a14531-1dc3-4bb5-89df-51fb0f926c62",
   "metadata": {},
   "outputs": [],
   "source": [
    "# ResNet 모델 불러오기 및 수정\n",
    "model = models.resnet50(pretrained=True)\n",
    "model.fc = nn.Linear(model.fc.in_features, num_classes)  # 마지막 층 수정\n",
    "model = model.cuda() if torch.cuda.is_available() else model"
   ]
  },
  {
   "cell_type": "code",
   "execution_count": 467,
   "id": "4610c135-b0ab-4993-9856-53ea64841ae6",
   "metadata": {},
   "outputs": [],
   "source": [
    "# 손실 함수 및 옵티마이저 설정\n",
    "criterion = nn.CrossEntropyLoss()\n",
    "optimizer = optim.Adam(model.parameters(), lr=learning_rate)"
   ]
  },
  {
   "cell_type": "code",
   "execution_count": 468,
   "id": "b093dc43-0113-4976-b6fd-bf7f9287100a",
   "metadata": {},
   "outputs": [],
   "source": [
    "# 학습 및 검증 루프\n",
    "def train_and_evaluate(model, train_loader, val_loader, criterion, optimizer, epochs, early_stop_patience):\n",
    "    best_val_acc = 0.0\n",
    "    no_improve_epochs = 0\n",
    "    \n",
    "    for epoch in range(epochs):\n",
    "        # 학습 단계\n",
    "        model.train()\n",
    "        running_loss, correct, total = 0.0, 0, 0\n",
    "        train_bar = tqdm(train_loader, desc=f'Epoch {epoch+1}/{epochs} - Training')\n",
    "        \n",
    "        for images, labels in train_bar:\n",
    "            images, labels = images.cuda(), labels.cuda()\n",
    "            optimizer.zero_grad()\n",
    "            outputs = model(images)\n",
    "            loss = criterion(outputs, labels)\n",
    "            loss.backward()\n",
    "            optimizer.step()\n",
    "            running_loss += loss.item()\n",
    "            _, predicted = torch.max(outputs, 1)\n",
    "            total += labels.size(0)\n",
    "            correct += (predicted == labels).sum().item()\n",
    "            train_bar.set_postfix(loss=running_loss / (train_bar.n + 1), acc=100 * correct / total)\n",
    "        \n",
    "        avg_train_loss = running_loss / len(train_loader)\n",
    "        train_acc = 100 * correct / total\n",
    "        print(f'Epoch {epoch+1}, Loss: {avg_train_loss:.4f}, Train Accuracy: {train_acc:.2f}%')\n",
    "        \n",
    "        # 검증 단계\n",
    "        model.eval()\n",
    "        correct, total = 0, 0\n",
    "        val_bar = tqdm(val_loader, desc=f'Epoch {epoch+1}/{epochs} - Validation')\n",
    "        \n",
    "        with torch.no_grad():\n",
    "            for images, labels in val_bar:\n",
    "                images, labels = images.cuda(), labels.cuda()\n",
    "                outputs = model(images)\n",
    "                _, predicted = torch.max(outputs, 1)\n",
    "                total += labels.size(0)\n",
    "                correct += (predicted == labels).sum().item()\n",
    "                val_bar.set_postfix(acc=100 * correct / total)\n",
    "        \n",
    "        val_acc = 100 * correct / total\n",
    "        print(f'Validation Accuracy: {val_acc:.2f}%')\n",
    "        \n",
    "        # 조기 종료 조건 확인\n",
    "        if val_acc > best_val_acc:\n",
    "            best_val_acc = val_acc\n",
    "            no_improve_epochs = 0\n",
    "            torch.save(model.state_dict(), 'resnet_best.pth')  # 최적 모델 저장\n",
    "        else:\n",
    "            no_improve_epochs += 1\n",
    "            if no_improve_epochs >= early_stop_patience:\n",
    "                print(f'Early stopping at epoch {epoch+1}. No improvement for {early_stop_patience} epochs.')\n",
    "                break"
   ]
  },
  {
   "cell_type": "code",
   "execution_count": 469,
   "id": "57bdc74c-6e2b-45a3-89cc-64b1704c7baa",
   "metadata": {},
   "outputs": [
    {
     "name": "stderr",
     "output_type": "stream",
     "text": [
      "Epoch 1/150 - Training: 100%|█████████████████████████████████████| 51/51 [00:12<00:00,  3.93it/s, acc=24.4, loss=1.87]\n"
     ]
    },
    {
     "name": "stdout",
     "output_type": "stream",
     "text": [
      "Epoch 1, Loss: 1.8678, Train Accuracy: 24.42%\n"
     ]
    },
    {
     "name": "stderr",
     "output_type": "stream",
     "text": [
      "Epoch 1/150 - Validation: 100%|████████████████████████████████████████████████| 6/6 [00:01<00:00,  5.69it/s, acc=31.9]\n"
     ]
    },
    {
     "name": "stdout",
     "output_type": "stream",
     "text": [
      "Validation Accuracy: 31.87%\n"
     ]
    },
    {
     "name": "stderr",
     "output_type": "stream",
     "text": [
      "Epoch 2/150 - Training: 100%|█████████████████████████████████████| 51/51 [00:12<00:00,  4.08it/s, acc=43.2, loss=1.52]\n"
     ]
    },
    {
     "name": "stdout",
     "output_type": "stream",
     "text": [
      "Epoch 2, Loss: 1.5250, Train Accuracy: 43.19%\n"
     ]
    },
    {
     "name": "stderr",
     "output_type": "stream",
     "text": [
      "Epoch 2/150 - Validation: 100%|████████████████████████████████████████████████| 6/6 [00:01<00:00,  5.73it/s, acc=38.5]\n"
     ]
    },
    {
     "name": "stdout",
     "output_type": "stream",
     "text": [
      "Validation Accuracy: 38.46%\n"
     ]
    },
    {
     "name": "stderr",
     "output_type": "stream",
     "text": [
      "Epoch 3/150 - Training: 100%|█████████████████████████████████████| 51/51 [00:12<00:00,  4.07it/s, acc=59.8, loss=1.13]\n"
     ]
    },
    {
     "name": "stdout",
     "output_type": "stream",
     "text": [
      "Epoch 3, Loss: 1.1296, Train Accuracy: 59.75%\n"
     ]
    },
    {
     "name": "stderr",
     "output_type": "stream",
     "text": [
      "Epoch 3/150 - Validation: 100%|████████████████████████████████████████████████| 6/6 [00:01<00:00,  5.84it/s, acc=41.8]\n"
     ]
    },
    {
     "name": "stdout",
     "output_type": "stream",
     "text": [
      "Validation Accuracy: 41.76%\n"
     ]
    },
    {
     "name": "stderr",
     "output_type": "stream",
     "text": [
      "Epoch 4/150 - Training: 100%|████████████████████████████████████| 51/51 [00:12<00:00,  4.10it/s, acc=68.1, loss=0.947]\n"
     ]
    },
    {
     "name": "stdout",
     "output_type": "stream",
     "text": [
      "Epoch 4, Loss: 0.9475, Train Accuracy: 68.10%\n"
     ]
    },
    {
     "name": "stderr",
     "output_type": "stream",
     "text": [
      "Epoch 4/150 - Validation: 100%|████████████████████████████████████████████████| 6/6 [00:01<00:00,  5.93it/s, acc=51.6]\n"
     ]
    },
    {
     "name": "stdout",
     "output_type": "stream",
     "text": [
      "Validation Accuracy: 51.65%\n"
     ]
    },
    {
     "name": "stderr",
     "output_type": "stream",
     "text": [
      "Epoch 5/150 - Training: 100%|████████████████████████████████████| 51/51 [00:12<00:00,  4.08it/s, acc=75.5, loss=0.716]\n"
     ]
    },
    {
     "name": "stdout",
     "output_type": "stream",
     "text": [
      "Epoch 5, Loss: 0.7160, Train Accuracy: 75.46%\n"
     ]
    },
    {
     "name": "stderr",
     "output_type": "stream",
     "text": [
      "Epoch 5/150 - Validation: 100%|████████████████████████████████████████████████| 6/6 [00:01<00:00,  5.83it/s, acc=57.1]\n"
     ]
    },
    {
     "name": "stdout",
     "output_type": "stream",
     "text": [
      "Validation Accuracy: 57.14%\n"
     ]
    },
    {
     "name": "stderr",
     "output_type": "stream",
     "text": [
      "Epoch 6/150 - Training: 100%|████████████████████████████████████| 51/51 [00:12<00:00,  4.09it/s, acc=81.6, loss=0.526]\n"
     ]
    },
    {
     "name": "stdout",
     "output_type": "stream",
     "text": [
      "Epoch 6, Loss: 0.5258, Train Accuracy: 81.60%\n"
     ]
    },
    {
     "name": "stderr",
     "output_type": "stream",
     "text": [
      "Epoch 6/150 - Validation: 100%|████████████████████████████████████████████████| 6/6 [00:01<00:00,  5.66it/s, acc=54.9]\n"
     ]
    },
    {
     "name": "stdout",
     "output_type": "stream",
     "text": [
      "Validation Accuracy: 54.95%\n"
     ]
    },
    {
     "name": "stderr",
     "output_type": "stream",
     "text": [
      "Epoch 7/150 - Training: 100%|████████████████████████████████████| 51/51 [00:12<00:00,  4.05it/s, acc=85.3, loss=0.417]\n"
     ]
    },
    {
     "name": "stdout",
     "output_type": "stream",
     "text": [
      "Epoch 7, Loss: 0.4171, Train Accuracy: 85.28%\n"
     ]
    },
    {
     "name": "stderr",
     "output_type": "stream",
     "text": [
      "Epoch 7/150 - Validation: 100%|████████████████████████████████████████████████| 6/6 [00:01<00:00,  5.61it/s, acc=57.1]\n"
     ]
    },
    {
     "name": "stdout",
     "output_type": "stream",
     "text": [
      "Validation Accuracy: 57.14%\n"
     ]
    },
    {
     "name": "stderr",
     "output_type": "stream",
     "text": [
      "Epoch 8/150 - Training: 100%|████████████████████████████████████| 51/51 [00:12<00:00,  4.07it/s, acc=88.2, loss=0.369]\n"
     ]
    },
    {
     "name": "stdout",
     "output_type": "stream",
     "text": [
      "Epoch 8, Loss: 0.3685, Train Accuracy: 88.22%\n"
     ]
    },
    {
     "name": "stderr",
     "output_type": "stream",
     "text": [
      "Epoch 8/150 - Validation: 100%|████████████████████████████████████████████████| 6/6 [00:01<00:00,  5.80it/s, acc=64.8]\n"
     ]
    },
    {
     "name": "stdout",
     "output_type": "stream",
     "text": [
      "Validation Accuracy: 64.84%\n"
     ]
    },
    {
     "name": "stderr",
     "output_type": "stream",
     "text": [
      "Epoch 9/150 - Training: 100%|████████████████████████████████████| 51/51 [00:12<00:00,  4.05it/s, acc=87.9, loss=0.361]\n"
     ]
    },
    {
     "name": "stdout",
     "output_type": "stream",
     "text": [
      "Epoch 9, Loss: 0.3609, Train Accuracy: 87.85%\n"
     ]
    },
    {
     "name": "stderr",
     "output_type": "stream",
     "text": [
      "Epoch 9/150 - Validation: 100%|████████████████████████████████████████████████| 6/6 [00:01<00:00,  5.90it/s, acc=58.2]\n"
     ]
    },
    {
     "name": "stdout",
     "output_type": "stream",
     "text": [
      "Validation Accuracy: 58.24%\n"
     ]
    },
    {
     "name": "stderr",
     "output_type": "stream",
     "text": [
      "Epoch 10/150 - Training: 100%|███████████████████████████████████| 51/51 [00:12<00:00,  4.09it/s, acc=89.4, loss=0.283]\n"
     ]
    },
    {
     "name": "stdout",
     "output_type": "stream",
     "text": [
      "Epoch 10, Loss: 0.2832, Train Accuracy: 89.45%\n"
     ]
    },
    {
     "name": "stderr",
     "output_type": "stream",
     "text": [
      "Epoch 10/150 - Validation: 100%|███████████████████████████████████████████████| 6/6 [00:01<00:00,  5.76it/s, acc=68.1]\n"
     ]
    },
    {
     "name": "stdout",
     "output_type": "stream",
     "text": [
      "Validation Accuracy: 68.13%\n"
     ]
    },
    {
     "name": "stderr",
     "output_type": "stream",
     "text": [
      "Epoch 11/150 - Training: 100%|███████████████████████████████████| 51/51 [00:12<00:00,  4.05it/s, acc=91.9, loss=0.276]\n"
     ]
    },
    {
     "name": "stdout",
     "output_type": "stream",
     "text": [
      "Epoch 11, Loss: 0.2761, Train Accuracy: 91.90%\n"
     ]
    },
    {
     "name": "stderr",
     "output_type": "stream",
     "text": [
      "Epoch 11/150 - Validation: 100%|███████████████████████████████████████████████| 6/6 [00:01<00:00,  5.78it/s, acc=68.1]\n"
     ]
    },
    {
     "name": "stdout",
     "output_type": "stream",
     "text": [
      "Validation Accuracy: 68.13%\n"
     ]
    },
    {
     "name": "stderr",
     "output_type": "stream",
     "text": [
      "Epoch 12/150 - Training: 100%|███████████████████████████████████| 51/51 [00:12<00:00,  4.08it/s, acc=94.8, loss=0.174]\n"
     ]
    },
    {
     "name": "stdout",
     "output_type": "stream",
     "text": [
      "Epoch 12, Loss: 0.1739, Train Accuracy: 94.85%\n"
     ]
    },
    {
     "name": "stderr",
     "output_type": "stream",
     "text": [
      "Epoch 12/150 - Validation: 100%|███████████████████████████████████████████████| 6/6 [00:01<00:00,  5.73it/s, acc=70.3]\n"
     ]
    },
    {
     "name": "stdout",
     "output_type": "stream",
     "text": [
      "Validation Accuracy: 70.33%\n"
     ]
    },
    {
     "name": "stderr",
     "output_type": "stream",
     "text": [
      "Epoch 13/150 - Training: 100%|███████████████████████████████████| 51/51 [00:12<00:00,  4.08it/s, acc=94.4, loss=0.181]\n"
     ]
    },
    {
     "name": "stdout",
     "output_type": "stream",
     "text": [
      "Epoch 13, Loss: 0.1805, Train Accuracy: 94.36%\n"
     ]
    },
    {
     "name": "stderr",
     "output_type": "stream",
     "text": [
      "Epoch 13/150 - Validation: 100%|███████████████████████████████████████████████| 6/6 [00:01<00:00,  5.76it/s, acc=65.9]\n"
     ]
    },
    {
     "name": "stdout",
     "output_type": "stream",
     "text": [
      "Validation Accuracy: 65.93%\n"
     ]
    },
    {
     "name": "stderr",
     "output_type": "stream",
     "text": [
      "Epoch 14/150 - Training: 100%|███████████████████████████████████| 51/51 [00:12<00:00,  4.06it/s, acc=96.2, loss=0.134]\n"
     ]
    },
    {
     "name": "stdout",
     "output_type": "stream",
     "text": [
      "Epoch 14, Loss: 0.1338, Train Accuracy: 96.20%\n"
     ]
    },
    {
     "name": "stderr",
     "output_type": "stream",
     "text": [
      "Epoch 14/150 - Validation: 100%|███████████████████████████████████████████████| 6/6 [00:01<00:00,  5.95it/s, acc=69.2]\n"
     ]
    },
    {
     "name": "stdout",
     "output_type": "stream",
     "text": [
      "Validation Accuracy: 69.23%\n"
     ]
    },
    {
     "name": "stderr",
     "output_type": "stream",
     "text": [
      "Epoch 15/150 - Training: 100%|███████████████████████████████████| 51/51 [00:12<00:00,  4.07it/s, acc=97.2, loss=0.113]\n"
     ]
    },
    {
     "name": "stdout",
     "output_type": "stream",
     "text": [
      "Epoch 15, Loss: 0.1127, Train Accuracy: 97.18%\n"
     ]
    },
    {
     "name": "stderr",
     "output_type": "stream",
     "text": [
      "Epoch 15/150 - Validation: 100%|███████████████████████████████████████████████| 6/6 [00:01<00:00,  5.88it/s, acc=64.8]"
     ]
    },
    {
     "name": "stdout",
     "output_type": "stream",
     "text": [
      "Validation Accuracy: 64.84%\n",
      "Early stopping at epoch 15. No improvement for 3 epochs.\n"
     ]
    },
    {
     "name": "stderr",
     "output_type": "stream",
     "text": [
      "\n"
     ]
    }
   ],
   "source": [
    "# 실행\n",
    "train_and_evaluate(model, train_loader, val_loader, criterion, optimizer, epochs, early_stop_patience)"
   ]
  },
  {
   "cell_type": "code",
   "execution_count": 397,
   "id": "371cb41d-9ac7-4c5a-8688-06eca4c0d603",
   "metadata": {},
   "outputs": [],
   "source": [
    "# 최종 모델 저장\n",
    "torch.save(model.state_dict(), 'resnet_final7.pth')"
   ]
  },
  {
   "cell_type": "code",
   "execution_count": 470,
   "id": "5d965dda-f308-43fb-8181-90a63810a3c4",
   "metadata": {},
   "outputs": [],
   "source": [
    "# 최종 모델 저장\n",
    "torch.save(model.state_dict(), 'resnet_bts1.pth')"
   ]
  },
  {
   "cell_type": "code",
   "execution_count": null,
   "id": "451a37b5-32ce-4f34-b10b-eea6b2e7d4ea",
   "metadata": {},
   "outputs": [],
   "source": []
  }
 ],
 "metadata": {
  "kernelspec": {
   "display_name": "final_test",
   "language": "python",
   "name": "final_test"
  },
  "language_info": {
   "codemirror_mode": {
    "name": "ipython",
    "version": 3
   },
   "file_extension": ".py",
   "mimetype": "text/x-python",
   "name": "python",
   "nbconvert_exporter": "python",
   "pygments_lexer": "ipython3",
   "version": "3.8.20"
  }
 },
 "nbformat": 4,
 "nbformat_minor": 5
}
